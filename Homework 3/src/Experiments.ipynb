{
 "cells": [
  {
   "cell_type": "code",
   "execution_count": null,
   "metadata": {
    "collapsed": true
   },
   "outputs": [],
   "source": [
    "import torch\n",
    "from torch.optim.lr_scheduler import ReduceLROnPlateau\n",
    "from tensorboardX import SummaryWriter\n",
    "\n",
    "from model import DescriptorNetwork\n",
    "from loss import TripletAndPairLoss\n",
    "from train import Solver\n",
    "from evaluate import Evaluator\n",
    "\n",
    "import matplotlib.pyplot as plt\n",
    "from utils.data_utils import get_train_mean_and_std\n",
    "from utils.train_utils import get_template_loader, get_train_loader, get_test_valid_loader\n"
   ]
  },
  {
   "cell_type": "code",
   "execution_count": null,
   "outputs": [],
   "source": [
    "data_dir = \"../dataset/\"\n",
    "classes = (\"ape\", \"benchvise\", \"cam\", \"cat\", \"duck\")\n",
    "\n",
    "save_path = '../models/'\n",
    "checkpoint_save_path = '../models/checkpoints/'\n",
    "adam_args = {\n",
    "    'lr': 1e-3,\n",
    "    'betas': (0.9, 0.999),\n",
    "    'eps': 1e-8,\n",
    "    'weight_decay': 0\n",
    "}\n"
   ],
   "metadata": {
    "collapsed": false,
    "pycharm": {
     "name": "#%%\n"
    }
   }
  },
  {
   "cell_type": "code",
   "execution_count": null,
   "outputs": [],
   "source": [
    "batch_size = 32\n",
    "k_neighbour_count = 5\n",
    "epochs = 25"
   ],
   "metadata": {
    "collapsed": false,
    "pycharm": {
     "name": "#%%\n"
    }
   }
  },
  {
   "cell_type": "code",
   "execution_count": null,
   "outputs": [],
   "source": [
    "optim = torch.optim.Adam\n",
    "scheduler = ReduceLROnPlateau\n",
    "writer = SummaryWriter()\n",
    "\n",
    "template_loader = get_template_loader(batch_size=1, shuffle=True, num_workers=0)\n",
    "train_loader = get_train_loader(batch_size=batch_size, shuffle=True, num_workers=0)\n",
    "test_loader, valid_loader = get_test_valid_loader(batch_size=1, shuffle=True, num_workers=0)\n",
    "\n",
    "m, std = get_train_mean_and_std(data_dir, classes)"
   ],
   "metadata": {
    "collapsed": false,
    "pycharm": {
     "name": "#%%\n"
    }
   }
  },
  {
   "cell_type": "code",
   "execution_count": null,
   "outputs": [],
   "source": [
    "model = DescriptorNetwork()\n",
    "loss_function = TripletAndPairLoss(batch_size=batch_size)"
   ],
   "metadata": {
    "collapsed": false,
    "pycharm": {
     "name": "#%%\n"
    }
   }
  },
  {
   "cell_type": "code",
   "execution_count": null,
   "outputs": [],
   "source": [
    "def train():\n",
    "    solver = Solver(loss_function=loss_function, optim_args=adam_args, optimizer=optim, scheduler=scheduler, dataset_mean=m,\n",
    "                    dataset_dev=std, writer=writer, k_neighbour_count=k_neighbour_count)\n",
    "\n",
    "    solver.solve(model=model, train_loader=train_loader, val_loader=valid_loader, template_loader=template_loader, num_epochs=epochs, save_path=save_path, save_model=True, save_state_dict=True,\n",
    "                 log_checkpoint=False, checkpoint_dir=checkpoint_save_path, plot_normalized_confusion_mat=True, resume_training=False, resume_checkpoint_file=None)\n",
    "\n",
    "\n",
    "def test(net, template_descriptor_pth):\n",
    "    evaluator = Evaluator(dataset_mean=m, dataset_dev=std, writer=writer, k_neighbour_count=k_neighbour_count)\n",
    "    evaluator.evaluate(model=net, test_loader=test_loader, template_descriptor_path=template_descriptor_pth, plot_normalized_confusion_mat=True, save_path=save_path)\n"
   ],
   "metadata": {
    "collapsed": false,
    "pycharm": {
     "name": "#%%\n"
    }
   }
  },
  {
   "cell_type": "code",
   "execution_count": null,
   "outputs": [],
   "source": [
    "train()"
   ],
   "metadata": {
    "collapsed": false,
    "pycharm": {
     "name": "#%%\n"
    }
   }
  },
  {
   "cell_type": "code",
   "execution_count": null,
   "outputs": [],
   "source": [
    "template_descriptor_path = f'../models/01-29-2020_T_01/template_descriptor_epoch_24_01-36.pt'\n",
    "state_dict_path = f'../models/model_01-29-2020_T_00-38-21_state_dict.pt'"
   ],
   "metadata": {
    "collapsed": false,
    "pycharm": {
     "name": "#%%\n"
    }
   }
  },
  {
   "cell_type": "code",
   "execution_count": null,
   "outputs": [],
   "source": [
    "state_dict = torch.load(state_dict_path)\n",
    "model: torch.nn.Module = DescriptorNetwork()\n",
    "model.load_state_dict(state_dict)"
   ],
   "metadata": {
    "collapsed": false,
    "pycharm": {
     "name": "#%%\n"
    }
   }
  },
  {
   "cell_type": "code",
   "execution_count": null,
   "outputs": [],
   "source": [
    "test(net=model, template_descriptor_pth=template_descriptor_path)\n"
   ],
   "metadata": {
    "collapsed": false,
    "pycharm": {
     "name": "#%%\n"
    }
   }
  }
 ],
 "metadata": {
  "kernelspec": {
   "display_name": "Python 3",
   "language": "python",
   "name": "python3"
  },
  "language_info": {
   "codemirror_mode": {
    "name": "ipython",
    "version": 2
   },
   "file_extension": ".py",
   "mimetype": "text/x-python",
   "name": "python",
   "nbconvert_exporter": "python",
   "pygments_lexer": "ipython2",
   "version": "2.7.6"
  },
  "pycharm": {
   "stem_cell": {
    "cell_type": "raw",
    "source": [],
    "metadata": {
     "collapsed": false
    }
   }
  }
 },
 "nbformat": 4,
 "nbformat_minor": 0
}